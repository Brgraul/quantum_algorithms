{
 "cells": [
  {
   "cell_type": "code",
   "execution_count": 98,
   "metadata": {},
   "outputs": [
    {
     "name": "stdout",
     "output_type": "stream",
     "text": [
      "[[0.35589517 0.         0.         0.        ]\n",
      " [0.         0.32826899 0.         0.        ]\n",
      " [0.         0.         0.15190733 0.        ]\n",
      " [0.         0.         0.         0.16392851]]\n",
      "[[0.21356582 0.         0.         0.        ]\n",
      " [0.         0.32388799 0.         0.        ]\n",
      " [0.         0.         0.32228898 0.        ]\n",
      " [0.         0.         0.         0.14025722]]\n"
     ]
    }
   ],
   "source": [
    "import numpy as np, numpy.random\n",
    "import math\n",
    "\n",
    "\n",
    "N_QUBITS = 4\n",
    "DIM_A = 4\n",
    "DIM_B =4\n",
    "pure = [0, 0 , 0, 1]\n",
    "\n",
    "ensemble = []\n",
    "mixed = np.random.dirichlet(np.ones(pow(2,N_QUBITS)),size=1).tolist()[0]\n",
    "\n",
    "for i in range(pow(2,N_QUBITS)):\n",
    "    string = '{0:0'+str(N_QUBITS)+'b}'\n",
    "    ensemble.append((string.format(i), mixed[i]))\n",
    "    \n",
    "bloch_vec = [np.sqrt(i) for i in mixed]\n",
    "rho = np.diag(mixed) \n",
    "rho = rho.reshape((DIM_A, DIM_B, DIM_A, DIM_B))\n",
    "rho_a = np.trace(rho, axis1=1, axis2=3)\n",
    "rho_b = np.trace(rho, axis1=0, axis2=2)\n",
    "print(rho_a)\n",
    "print(rho_b)\n",
    "def test(rho, dim_a, dim_b):\n",
    "    rho = rho.reshape((dim_a, dim_b, dim_a, dim_b))\n",
    "    rho_a = np.trace(rho, axis1=1, axis2=3)\n",
    "    rho_b = np.trace(rho, axis1=0, axis2=2)\n",
    "    return (rho_a, rho_b)"
   ]
  },
  {
   "cell_type": "code",
   "execution_count": 77,
   "metadata": {},
   "outputs": [
    {
     "data": {
      "text/plain": [
       "0.1727287015820146"
      ]
     },
     "execution_count": 77,
     "metadata": {},
     "output_type": "execute_result"
    }
   ],
   "source": [
    "## Demonstrating the properties of a pure state\n",
    "rho = np.outer(pure, pure)\n",
    "np.trace(np.linalg.matrix_power(rho, 2)) # Trace is equal to one, this is a pure state\n",
    "\n",
    "## Checking the same for a mixed state\n",
    "rho = np.diag(mixed) # Shorthand, as the outer product is an unit vector with the one in the ith position\n",
    "np.trace(np.linalg.matrix_power(rho, 2)) # Trace is smaller than one, is a mixed state\n",
    "\n"
   ]
  },
  {
   "cell_type": "code",
   "execution_count": 69,
   "metadata": {},
   "outputs": [],
   "source": [
    "for i in range(pow(2,N_QUBITS)):\n",
    "    ensemble.append((\"{0:b}\".format(i), mixed[i]))"
   ]
  },
  {
   "cell_type": "code",
   "execution_count": 71,
   "metadata": {},
   "outputs": [
    {
     "data": {
      "text/plain": [
       "[('0b0', 0.09990639846158916),\n",
       " ('0b1', 0.17811464417732462),\n",
       " ('0b10', 0.4533982132145258),\n",
       " ('0b11', 0.00797562928153026),\n",
       " ('0b100', 0.025471854452111753),\n",
       " ('0b101', 0.08909249283177165),\n",
       " ('0b110', 0.030009883823649733),\n",
       " ('0b111', 0.11603088375749715),\n",
       " ('0b0', 0.09990639846158916),\n",
       " ('0b1', 0.17811464417732462),\n",
       " ('0b10', 0.4533982132145258),\n",
       " ('0b11', 0.00797562928153026),\n",
       " ('0b100', 0.025471854452111753),\n",
       " ('0b101', 0.08909249283177165),\n",
       " ('0b110', 0.030009883823649733),\n",
       " ('0b111', 0.11603088375749715),\n",
       " ('0b0', 0.09990639846158916),\n",
       " ('0b1', 0.17811464417732462),\n",
       " ('0b10', 0.4533982132145258),\n",
       " ('0b11', 0.00797562928153026),\n",
       " ('0b100', 0.025471854452111753),\n",
       " ('0b101', 0.08909249283177165),\n",
       " ('0b110', 0.030009883823649733),\n",
       " ('0b111', 0.11603088375749715),\n",
       " ('0', 0.09990639846158916),\n",
       " ('1', 0.17811464417732462),\n",
       " ('10', 0.4533982132145258),\n",
       " ('11', 0.00797562928153026),\n",
       " ('100', 0.025471854452111753),\n",
       " ('101', 0.08909249283177165),\n",
       " ('110', 0.030009883823649733),\n",
       " ('111', 0.11603088375749715)]"
      ]
     },
     "execution_count": 71,
     "metadata": {},
     "output_type": "execute_result"
    }
   ],
   "source": [
    "ensemble"
   ]
  },
  {
   "cell_type": "code",
   "execution_count": 75,
   "metadata": {},
   "outputs": [
    {
     "data": {
      "text/plain": [
       "[('000', 0.3345625899847894),\n",
       " ('001', 0.06693816346558408),\n",
       " ('010', 0.006476472515785853),\n",
       " ('011', 0.13524413277703112),\n",
       " ('100', 0.047089998784452844),\n",
       " ('101', 0.02786670801959667),\n",
       " ('110', 0.27219395898316656),\n",
       " ('111', 0.10962797546959341)]"
      ]
     },
     "execution_count": 75,
     "metadata": {},
     "output_type": "execute_result"
    }
   ],
   "source": []
  },
  {
   "cell_type": "code",
   "execution_count": 59,
   "metadata": {},
   "outputs": [
    {
     "data": {
      "text/plain": [
       "8"
      ]
     },
     "execution_count": 59,
     "metadata": {},
     "output_type": "execute_result"
    }
   ],
   "source": [
    "pow(2,N_QUBITS)"
   ]
  },
  {
   "cell_type": "code",
   "execution_count": null,
   "metadata": {},
   "outputs": [],
   "source": [
    "ensemble = [(p[0][0], \"00\"), (p[0][1], \"01\"), (p[0][2], \"10\"), (p[0][3], \"11\")]\n"
   ]
  }
 ],
 "metadata": {
  "kernelspec": {
   "display_name": "Python 3",
   "language": "python",
   "name": "python3"
  },
  "language_info": {
   "codemirror_mode": {
    "name": "ipython",
    "version": 3
   },
   "file_extension": ".py",
   "mimetype": "text/x-python",
   "name": "python",
   "nbconvert_exporter": "python",
   "pygments_lexer": "ipython3",
   "version": "3.7.3"
  }
 },
 "nbformat": 4,
 "nbformat_minor": 2
}
