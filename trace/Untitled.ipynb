{
 "cells": [
  {
   "cell_type": "code",
   "execution_count": 121,
   "metadata": {},
   "outputs": [
    {
     "name": "stdout",
     "output_type": "stream",
     "text": [
      "(16, 16)\n",
      "[[0.00849731 0.         0.         0.         0.         0.\n",
      "  0.         0.         0.         0.         0.         0.\n",
      "  0.         0.         0.         0.        ]\n",
      " [0.         0.19360768 0.         0.         0.         0.\n",
      "  0.         0.         0.         0.         0.         0.\n",
      "  0.         0.         0.         0.        ]\n",
      " [0.         0.         0.12249079 0.         0.         0.\n",
      "  0.         0.         0.         0.         0.         0.\n",
      "  0.         0.         0.         0.        ]\n",
      " [0.         0.         0.         0.02659958 0.         0.\n",
      "  0.         0.         0.         0.         0.         0.\n",
      "  0.         0.         0.         0.        ]\n",
      " [0.         0.         0.         0.         0.07172758 0.\n",
      "  0.         0.         0.         0.         0.         0.\n",
      "  0.         0.         0.         0.        ]\n",
      " [0.         0.         0.         0.         0.         0.08821501\n",
      "  0.         0.         0.         0.         0.         0.\n",
      "  0.         0.         0.         0.        ]\n",
      " [0.         0.         0.         0.         0.         0.\n",
      "  0.00373756 0.         0.         0.         0.         0.\n",
      "  0.         0.         0.         0.        ]\n",
      " [0.         0.         0.         0.         0.         0.\n",
      "  0.         0.09015836 0.         0.         0.         0.\n",
      "  0.         0.         0.         0.        ]\n",
      " [0.         0.         0.         0.         0.         0.\n",
      "  0.         0.         0.0364142  0.         0.         0.\n",
      "  0.         0.         0.         0.        ]\n",
      " [0.         0.         0.         0.         0.         0.\n",
      "  0.         0.         0.         0.03422438 0.         0.\n",
      "  0.         0.         0.         0.        ]\n",
      " [0.         0.         0.         0.         0.         0.\n",
      "  0.         0.         0.         0.         0.01759059 0.\n",
      "  0.         0.         0.         0.        ]\n",
      " [0.         0.         0.         0.         0.         0.\n",
      "  0.         0.         0.         0.         0.         0.00325733\n",
      "  0.         0.         0.         0.        ]\n",
      " [0.         0.         0.         0.         0.         0.\n",
      "  0.         0.         0.         0.         0.         0.\n",
      "  0.07860075 0.         0.         0.        ]\n",
      " [0.         0.         0.         0.         0.         0.\n",
      "  0.         0.         0.         0.         0.         0.\n",
      "  0.         0.04237448 0.         0.        ]\n",
      " [0.         0.         0.         0.         0.         0.\n",
      "  0.         0.         0.         0.         0.         0.\n",
      "  0.         0.         0.05852084 0.        ]\n",
      " [0.         0.         0.         0.         0.         0.\n",
      "  0.         0.         0.         0.         0.         0.\n",
      "  0.         0.         0.         0.12398357]]\n",
      "[[0.35119536 0.         0.         0.        ]\n",
      " [0.         0.25383851 0.         0.        ]\n",
      " [0.         0.         0.09148649 0.        ]\n",
      " [0.         0.         0.         0.30347963]]\n",
      "[[0.19523984 0.         0.         0.        ]\n",
      " [0.         0.35842155 0.         0.        ]\n",
      " [0.         0.         0.20233977 0.        ]\n",
      " [0.         0.         0.         0.24399884]]\n"
     ]
    }
   ],
   "source": [
    "import numpy as np, numpy.random\n",
    "import math\n",
    "import string\n",
    "\n",
    "N_QUBITS = 4\n",
    "DIM_A = 4 # Dimensions are that of the state space vector -> NQubits_A^2\n",
    "DIM_B =4 # -> NQubits_B^2\n",
    "pure = [0, 0 , 0, 1]\n",
    "\n",
    "ensemble = []\n",
    "mixed = np.random.dirichlet(np.ones(pow(2,N_QUBITS)),size=1).tolist()[0]\n",
    "\n",
    "for i in range(pow(2,N_QUBITS)):\n",
    "    string = '{0:0'+str(N_QUBITS)+'b}'\n",
    "    ensemble.append((string.format(i), mixed[i]))\n",
    "    \n",
    "bloch_vec = [np.sqrt(i) for i in mixed]\n",
    "rho = np.diag(mixed) \n",
    "print(np.shape(rho))\n",
    "print(rho)\n",
    "rho = rho.reshape((DIM_A, DIM_B, DIM_A, DIM_B))\n",
    "rho_a = np.trace(rho, axis1=1, axis2=3)\n",
    "rho_b = np.trace(rho, axis1=0, axis2=2)\n",
    "print(rho_a)\n",
    "print(rho_b)\n",
    "def test(rho, dim_a, dim_b):\n",
    "    rho = rho.reshape((dim_a, dim_b, dim_a, dim_b))\n",
    "    rho_a = np.trace(rho, axis1=1, axis2=3)\n",
    "    rho_b = np.trace(rho, axis1=0, axis2=2)\n",
    "    return (rho_a, rho_b)"
   ]
  },
  {
   "cell_type": "code",
   "execution_count": 77,
   "metadata": {},
   "outputs": [
    {
     "data": {
      "text/plain": [
       "0.1727287015820146"
      ]
     },
     "execution_count": 77,
     "metadata": {},
     "output_type": "execute_result"
    }
   ],
   "source": [
    "## Demonstrating the properties of a pure state\n",
    "rho = np.outer(pure, pure)\n",
    "np.trace(np.linalg.matrix_power(rho, 2)) # Trace is equal to one, this is a pure state\n",
    "\n",
    "## Checking the same for a mixed state\n",
    "rho = np.diag(mixed) # Shorthand, as the outer product is an unit vector with the one in the ith position\n",
    "np.trace(np.linalg.matrix_power(rho, 2)) # Trace is smaller than one, is a mixed state\n",
    "\n"
   ]
  },
  {
   "cell_type": "code",
   "execution_count": 69,
   "metadata": {},
   "outputs": [],
   "source": [
    "for i in range(pow(2,N_QUBITS)):\n",
    "    ensemble.append((\"{0:b}\".format(i), mixed[i]))"
   ]
  },
  {
   "cell_type": "code",
   "execution_count": 119,
   "metadata": {},
   "outputs": [
    {
     "data": {
      "text/plain": [
       "array([[[[0.00170666, 0.        , 0.        , 0.        ],\n",
       "         [0.        , 0.        , 0.        , 0.        ],\n",
       "         [0.        , 0.        , 0.        , 0.        ],\n",
       "         [0.        , 0.        , 0.        , 0.        ]],\n",
       "\n",
       "        [[0.        , 0.12786212, 0.        , 0.        ],\n",
       "         [0.        , 0.        , 0.        , 0.        ],\n",
       "         [0.        , 0.        , 0.        , 0.        ],\n",
       "         [0.        , 0.        , 0.        , 0.        ]],\n",
       "\n",
       "        [[0.        , 0.        , 0.12250683, 0.        ],\n",
       "         [0.        , 0.        , 0.        , 0.        ],\n",
       "         [0.        , 0.        , 0.        , 0.        ],\n",
       "         [0.        , 0.        , 0.        , 0.        ]],\n",
       "\n",
       "        [[0.        , 0.        , 0.        , 0.10381956],\n",
       "         [0.        , 0.        , 0.        , 0.        ],\n",
       "         [0.        , 0.        , 0.        , 0.        ],\n",
       "         [0.        , 0.        , 0.        , 0.        ]]],\n",
       "\n",
       "\n",
       "       [[[0.        , 0.        , 0.        , 0.        ],\n",
       "         [0.11096735, 0.        , 0.        , 0.        ],\n",
       "         [0.        , 0.        , 0.        , 0.        ],\n",
       "         [0.        , 0.        , 0.        , 0.        ]],\n",
       "\n",
       "        [[0.        , 0.        , 0.        , 0.        ],\n",
       "         [0.        , 0.09870712, 0.        , 0.        ],\n",
       "         [0.        , 0.        , 0.        , 0.        ],\n",
       "         [0.        , 0.        , 0.        , 0.        ]],\n",
       "\n",
       "        [[0.        , 0.        , 0.        , 0.        ],\n",
       "         [0.        , 0.        , 0.08825996, 0.        ],\n",
       "         [0.        , 0.        , 0.        , 0.        ],\n",
       "         [0.        , 0.        , 0.        , 0.        ]],\n",
       "\n",
       "        [[0.        , 0.        , 0.        , 0.        ],\n",
       "         [0.        , 0.        , 0.        , 0.03033456],\n",
       "         [0.        , 0.        , 0.        , 0.        ],\n",
       "         [0.        , 0.        , 0.        , 0.        ]]],\n",
       "\n",
       "\n",
       "       [[[0.        , 0.        , 0.        , 0.        ],\n",
       "         [0.        , 0.        , 0.        , 0.        ],\n",
       "         [0.01392425, 0.        , 0.        , 0.        ],\n",
       "         [0.        , 0.        , 0.        , 0.        ]],\n",
       "\n",
       "        [[0.        , 0.        , 0.        , 0.        ],\n",
       "         [0.        , 0.        , 0.        , 0.        ],\n",
       "         [0.        , 0.09658079, 0.        , 0.        ],\n",
       "         [0.        , 0.        , 0.        , 0.        ]],\n",
       "\n",
       "        [[0.        , 0.        , 0.        , 0.        ],\n",
       "         [0.        , 0.        , 0.        , 0.        ],\n",
       "         [0.        , 0.        , 0.03606056, 0.        ],\n",
       "         [0.        , 0.        , 0.        , 0.        ]],\n",
       "\n",
       "        [[0.        , 0.        , 0.        , 0.        ],\n",
       "         [0.        , 0.        , 0.        , 0.        ],\n",
       "         [0.        , 0.        , 0.        , 0.00534173],\n",
       "         [0.        , 0.        , 0.        , 0.        ]]],\n",
       "\n",
       "\n",
       "       [[[0.        , 0.        , 0.        , 0.        ],\n",
       "         [0.        , 0.        , 0.        , 0.        ],\n",
       "         [0.        , 0.        , 0.        , 0.        ],\n",
       "         [0.08696755, 0.        , 0.        , 0.        ]],\n",
       "\n",
       "        [[0.        , 0.        , 0.        , 0.        ],\n",
       "         [0.        , 0.        , 0.        , 0.        ],\n",
       "         [0.        , 0.        , 0.        , 0.        ],\n",
       "         [0.        , 0.00073796, 0.        , 0.        ]],\n",
       "\n",
       "        [[0.        , 0.        , 0.        , 0.        ],\n",
       "         [0.        , 0.        , 0.        , 0.        ],\n",
       "         [0.        , 0.        , 0.        , 0.        ],\n",
       "         [0.        , 0.        , 0.07546163, 0.        ]],\n",
       "\n",
       "        [[0.        , 0.        , 0.        , 0.        ],\n",
       "         [0.        , 0.        , 0.        , 0.        ],\n",
       "         [0.        , 0.        , 0.        , 0.        ],\n",
       "         [0.        , 0.        , 0.        , 0.00076137]]]])"
      ]
     },
     "execution_count": 119,
     "metadata": {},
     "output_type": "execute_result"
    }
   ],
   "source": [
    "rho"
   ]
  },
  {
   "cell_type": "code",
   "execution_count": 137,
   "metadata": {},
   "outputs": [
    {
     "data": {
      "text/plain": [
       "array([[[[0.70910149, 0.41271806, 0.52171909],\n",
       "         [0.50470068, 0.25802076, 0.46697374],\n",
       "         [0.62376474, 0.48334305, 0.84340398]],\n",
       "\n",
       "        [[0.2870321 , 0.10696642, 0.94559203],\n",
       "         [0.08337636, 0.11520064, 0.3748874 ],\n",
       "         [0.28944076, 0.54569176, 0.38827957]],\n",
       "\n",
       "        [[0.30074804, 0.43025439, 0.23150911],\n",
       "         [0.53093095, 0.71016378, 0.05784602],\n",
       "         [0.97641314, 0.98007719, 0.37970771]]],\n",
       "\n",
       "\n",
       "       [[[0.76942962, 0.84759223, 0.72314878],\n",
       "         [0.69290579, 0.69056902, 0.57952312],\n",
       "         [0.08000506, 0.56218991, 0.76624346]],\n",
       "\n",
       "        [[0.52822627, 0.79512025, 0.38785098],\n",
       "         [0.14153679, 0.04825523, 0.3600159 ],\n",
       "         [0.11285223, 0.90971369, 0.30368448]],\n",
       "\n",
       "        [[0.94663616, 0.95404336, 0.61606236],\n",
       "         [0.0864173 , 0.34791772, 0.96671087],\n",
       "         [0.11478108, 0.55347313, 0.64167605]]],\n",
       "\n",
       "\n",
       "       [[[0.32966455, 0.77697896, 0.86628395],\n",
       "         [0.73664315, 0.24924267, 0.76868578],\n",
       "         [0.43138408, 0.77610999, 0.59019034]],\n",
       "\n",
       "        [[0.27006072, 0.28334738, 0.56604117],\n",
       "         [0.29638015, 0.40365225, 0.47454513],\n",
       "         [0.41802838, 0.57607548, 0.37740264]],\n",
       "\n",
       "        [[0.34654736, 0.58513103, 0.19218284],\n",
       "         [0.31609516, 0.16183451, 0.48299626],\n",
       "         [0.22757713, 0.01528987, 0.92057003]]]])"
      ]
     },
     "execution_count": 137,
     "metadata": {},
     "output_type": "execute_result"
    }
   ],
   "source": [
    "A = np.random.rand(3,3,3,3)\n"
   ]
  },
  {
   "cell_type": "code",
   "execution_count": 188,
   "metadata": {},
   "outputs": [
    {
     "data": {
      "text/plain": [
       "array([[[['a', 'b', 'c', 'd', 'e', 'f', 'g', 'h'],\n",
       "         ['i', 'j', 'k', 'l', 'm', 'n', 'o', 'p']],\n",
       "\n",
       "        [['q', 'r', 's', 't', 'u', 'v', 'w', 'x'],\n",
       "         ['y', 'z', 'a', 'b', 'c', 'd', 'e', 'f']],\n",
       "\n",
       "        [['g', 'h', 'i', 'j', 'k', 'l', 'm', 'n'],\n",
       "         ['o', 'p', 'q', 'r', 's', 't', 'u', 'v']],\n",
       "\n",
       "        [['w', 'x', 'y', 'z', 'a', 'b', 'c', 'd'],\n",
       "         ['e', 'f', 'g', 'h', 'i', 'j', 'k', 'l']],\n",
       "\n",
       "        [['m', 'n', 'o', 'p', 'q', 'r', 's', 't'],\n",
       "         ['u', 'v', 'w', 'x', 'y', 'z', 'a', 'b']],\n",
       "\n",
       "        [['c', 'd', 'e', 'f', 'g', 'h', 'i', 'j'],\n",
       "         ['k', 'l', 'm', 'n', 'o', 'p', 'q', 'r']],\n",
       "\n",
       "        [['s', 't', 'u', 'v', 'w', 'x', 'y', 'z'],\n",
       "         ['a', 'b', 'c', 'd', 'e', 'f', 'g', 'h']],\n",
       "\n",
       "        [['i', 'j', 'k', 'l', 'm', 'n', 'o', 'p'],\n",
       "         ['q', 'r', 's', 't', 'u', 'v', 'w', 'x']]],\n",
       "\n",
       "\n",
       "       [[['y', 'z', 'a', 'b', 'c', 'd', 'e', 'f'],\n",
       "         ['g', 'h', 'i', 'j', 'k', 'l', 'm', 'n']],\n",
       "\n",
       "        [['o', 'p', 'q', 'r', 's', 't', 'u', 'v'],\n",
       "         ['w', 'x', 'y', 'z', 'a', 'b', 'c', 'd']],\n",
       "\n",
       "        [['e', 'f', 'g', 'h', 'i', 'j', 'k', 'l'],\n",
       "         ['m', 'n', 'o', 'p', 'q', 'r', 's', 't']],\n",
       "\n",
       "        [['u', 'v', 'w', 'x', 'y', 'z', 'a', 'b'],\n",
       "         ['c', 'd', 'e', 'f', 'g', 'h', 'i', 'j']],\n",
       "\n",
       "        [['k', 'l', 'm', 'n', 'o', 'p', 'q', 'r'],\n",
       "         ['s', 't', 'u', 'v', 'w', 'x', 'y', 'z']],\n",
       "\n",
       "        [['a', 'b', 'c', 'd', 'e', 'f', 'g', 'h'],\n",
       "         ['i', 'j', 'k', 'l', 'm', 'n', 'o', 'p']],\n",
       "\n",
       "        [['q', 'r', 's', 't', 'u', 'v', 'w', 'x'],\n",
       "         ['y', 'z', 'a', 'b', 'c', 'd', 'e', 'f']],\n",
       "\n",
       "        [['g', 'h', 'i', 'j', 'k', 'l', 'm', 'n'],\n",
       "         ['o', 'p', 'q', 'r', 's', 't', 'u', 'v']]]], dtype='<U1')"
      ]
     },
     "execution_count": 188,
     "metadata": {},
     "output_type": "execute_result"
    }
   ],
   "source": [
    "alphabet = list(string.ascii_lowercase)\n",
    "alphalength = len(alphabet)\n",
    "MATRIX_ELEMS = pow(16,2)\n",
    "reps = np.ceil(MATRIX_ELEMS / alphalength)\n",
    "total_elems = [i for elem in range(int(reps)) for i in alphabet]\n",
    "mat = np.array(total_elems[0:MATRIX_ELEMS])\n",
    "init = mat.reshape(16,16)\n",
    "# So far we considered symetric subsystems -> Let's try A = 1 Qubit & B = 3 Qubits\n",
    "dimA = pow(2,1)\n",
    "dimB = pow(2,3)\n",
    "final = mat.reshape(dimA, dimB, dimA, dimB)\n",
    "final"
   ]
  },
  {
   "cell_type": "code",
   "execution_count": 158,
   "metadata": {},
   "outputs": [
    {
     "data": {
      "text/plain": [
       "4.0"
      ]
     },
     "execution_count": 158,
     "metadata": {},
     "output_type": "execute_result"
    }
   ],
   "source": [
    "import string\n",
    "\n",
    "np.ceil(3.5)"
   ]
  },
  {
   "cell_type": "code",
   "execution_count": null,
   "metadata": {},
   "outputs": [],
   "source": [
    "ensemble = [(p[0][0], \"00\"), (p[0][1], \"01\"), (p[0][2], \"10\"), (p[0][3], \"11\")]\n"
   ]
  }
 ],
 "metadata": {
  "kernelspec": {
   "display_name": "Python 3",
   "language": "python",
   "name": "python3"
  },
  "language_info": {
   "codemirror_mode": {
    "name": "ipython",
    "version": 3
   },
   "file_extension": ".py",
   "mimetype": "text/x-python",
   "name": "python",
   "nbconvert_exporter": "python",
   "pygments_lexer": "ipython3",
   "version": "3.7.3"
  }
 },
 "nbformat": 4,
 "nbformat_minor": 2
}
