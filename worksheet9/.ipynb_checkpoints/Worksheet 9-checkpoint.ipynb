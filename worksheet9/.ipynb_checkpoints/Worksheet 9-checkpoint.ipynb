{
 "cells": [
  {
   "cell_type": "code",
   "execution_count": 117,
   "metadata": {},
   "outputs": [],
   "source": [
    "import numpy as np\n",
    "from IPython.display import Image\n",
    "\n",
    "# Definition of the gates\n",
    "S = np.array([[1,0],\n",
    "             [0, 1j]])\n",
    "\n",
    "T = np.array([[1, 0],\n",
    "             [0, np.exp(1j*np.pi/4)]])\n",
    "\n",
    "H = (1/np.sqrt(2))*np.array([[1, 1],\n",
    "              [1, -1]])\n",
    "\n",
    "X = np.array([[0,1],[1,0]])\n",
    "SW = np.array([[1, 0, 0, 0],\n",
    "              [0,0,1,0],\n",
    "              [0,1,0,0],\n",
    "              [0,0,0,1]])\n",
    "\n",
    "# Utility functions\n",
    "def controlled_u(U_gate: np.array, control:bool ):\n",
    "    \"\"\" \n",
    "    Generates the right U gate depending the number of qubits used in the problem.\n",
    "    The ones don't go necessarily on top left, depends on who controls and who's controlled. \n",
    "    If control is off, upper qubit is the control one. Control up reverses the configuration.\n",
    "    \"\"\"\n",
    "    \n",
    "    dim = 2**2\n",
    "    base = np.diag(*np.ones([1,4],dtype=complex))\n",
    "    if control:\n",
    "        base[0:2,:][:,0:2] = U_gate\n",
    "    else:\n",
    "        base[(dim-2):(dim),:][:,(dim-2):(dim)]  = U_gate\n",
    "    return base\n",
    "\n",
    "def unit(dim:int, pos: int):\n",
    "    \"\"\" \n",
    "    Generates a unit vector with the one in the position pos\n",
    "    \"\"\"\n",
    "    vec = np.zeros([dim,1])\n",
    "    vec[pos] = 1\n",
    "    return vec\n",
    "\n",
    "def reorder_gate(G, perm):\n",
    "    \"\"\"\n",
    "    Adapt gate 'G' to an ordering of the qubits as specified in 'perm'.\n",
    "    Example, given G = np.kron(np.kron(A, B), C):\n",
    "    reorder_gate(G, [1, 2, 0]) == np.kron(np.kron(B, C), A)\n",
    "    \"\"\"\n",
    "    perm = list(perm)\n",
    "    # number of qubits\n",
    "    n = len(perm)\n",
    "    # reorder both input and output dimensions\n",
    "    perm2 = perm + [n + i for i in perm]\n",
    "    return np.reshape(np.transpose(np.reshape(G, 2*n*[2]), perm2), (2**n, 2**n))"
   ]
  },
  {
   "cell_type": "markdown",
   "metadata": {},
   "source": [
    "<img src=\"img/worksheet8.jpeg\" width=\"600\">\n",
    "\n"
   ]
  },
  {
   "cell_type": "code",
   "execution_count": 124,
   "metadata": {},
   "outputs": [],
   "source": [
    "# We distinguish 7 moments (Concurrent sections of logic gates)\n",
    "# We go from right to left\n",
    "moments = []\n",
    "\n",
    "# 6th slice\n",
    "moments.append(reorder_gate(np.kron(SW, np.eye(2)), [0 ,2 ,1 ]))\n",
    "\n",
    "# 5th slice\n",
    "moments.append(np.kron(np.kron(np.eye(2), np.eye(2)), H))\n",
    "\n",
    "# 4th slice\n",
    "moments.append(np.kron(np.eye(2), controlled_u(S, 1)))\n",
    "\n",
    "# 3th slice \n",
    "moments.append(np.kron(np.kron(np.eye(2), H),np.eye(2)))\n",
    "\n",
    "# 2rd slice \n",
    "moments.append(reorder_gate(np.kron(controlled_u(T, 1), np.eye(2)), [0, 2, 1]))\n",
    "\n",
    "# 1nd slice\n",
    "moments.append(np.kron(controlled_u(S, 1), np.eye(2)))\n",
    "\n",
    "# slice 0\n",
    "moments.append(np.kron(np.kron(H, np.eye(2)), np.eye(2)))\n"
   ]
  },
  {
   "cell_type": "code",
   "execution_count": 131,
   "metadata": {},
   "outputs": [
    {
     "data": {
      "text/plain": [
       "array([[ 0.35355339+0.j        ,  0.35355339+0.j        ,\n",
       "         0.35355339+0.j        ,  0.35355339+0.j        ,\n",
       "         0.35355339+0.j        ,  0.35355339+0.j        ,\n",
       "         0.35355339+0.j        ,  0.35355339+0.j        ],\n",
       "       [-0.25      +0.25j      ,  0.        +0.35355339j,\n",
       "         0.25      +0.25j      ,  0.35355339+0.j        ,\n",
       "         0.25      -0.25j      ,  0.        -0.35355339j,\n",
       "        -0.25      -0.25j      , -0.35355339+0.j        ],\n",
       "       [ 0.        +0.35355339j,  0.35355339+0.j        ,\n",
       "         0.        -0.35355339j, -0.35355339+0.j        ,\n",
       "         0.        +0.35355339j,  0.35355339+0.j        ,\n",
       "         0.        -0.35355339j, -0.35355339+0.j        ],\n",
       "       [-0.25      -0.25j      ,  0.        +0.35355339j,\n",
       "         0.25      -0.25j      , -0.35355339+0.j        ,\n",
       "         0.25      +0.25j      ,  0.        -0.35355339j,\n",
       "        -0.25      +0.25j      ,  0.35355339+0.j        ],\n",
       "       [ 0.35355339+0.j        , -0.35355339+0.j        ,\n",
       "         0.35355339+0.j        , -0.35355339+0.j        ,\n",
       "         0.35355339+0.j        , -0.35355339+0.j        ,\n",
       "         0.35355339+0.j        , -0.35355339+0.j        ],\n",
       "       [-0.25      +0.25j      ,  0.        -0.35355339j,\n",
       "         0.25      +0.25j      , -0.35355339+0.j        ,\n",
       "         0.25      -0.25j      ,  0.        +0.35355339j,\n",
       "        -0.25      -0.25j      ,  0.35355339+0.j        ],\n",
       "       [ 0.        +0.35355339j, -0.35355339+0.j        ,\n",
       "         0.        -0.35355339j,  0.35355339+0.j        ,\n",
       "         0.        +0.35355339j, -0.35355339+0.j        ,\n",
       "         0.        -0.35355339j,  0.35355339+0.j        ],\n",
       "       [-0.25      -0.25j      ,  0.        -0.35355339j,\n",
       "         0.25      -0.25j      ,  0.35355339+0.j        ,\n",
       "         0.25      +0.25j      ,  0.        +0.35355339j,\n",
       "        -0.25      +0.25j      , -0.35355339+0.j        ]])"
      ]
     },
     "execution_count": 131,
     "metadata": {},
     "output_type": "execute_result"
    }
   ],
   "source": [
    "# To obtain the circuit matrix, we multiply all moments\n",
    "circuit = moments[6]\n",
    "for moment in reversed(moments[:6]):\n",
    "    circuit = circuit @ moment\n",
    "acircuit"
   ]
  },
  {
   "cell_type": "code",
   "execution_count": 157,
   "metadata": {},
   "outputs": [],
   "source": [
    "sample = np.array([[np.exp(2*np.pi*1j*j*k/8)/np.sqrt(8) for j in range(8)] for k in range(8)])\n"
   ]
  },
  {
   "cell_type": "code",
   "execution_count": null,
   "metadata": {},
   "outputs": [],
   "source": []
  }
 ],
 "metadata": {
  "kernelspec": {
   "display_name": "Python 3",
   "language": "python",
   "name": "python3"
  },
  "language_info": {
   "codemirror_mode": {
    "name": "ipython",
    "version": 3
   },
   "file_extension": ".py",
   "mimetype": "text/x-python",
   "name": "python",
   "nbconvert_exporter": "python",
   "pygments_lexer": "ipython3",
   "version": "3.7.5"
  }
 },
 "nbformat": 4,
 "nbformat_minor": 2
}
