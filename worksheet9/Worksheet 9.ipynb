{
 "cells": [
  {
   "cell_type": "code",
   "execution_count": 117,
   "metadata": {},
   "outputs": [],
   "source": [
    "import numpy as np\n",
    "from IPython.display import Image\n",
    "\n",
    "# Definition of the gates\n",
    "S = np.array([[1,0],\n",
    "             [0, 1j]])\n",
    "\n",
    "T = np.array([[1, 0],\n",
    "             [0, np.exp(1j*np.pi/4)]])\n",
    "\n",
    "H = (1/np.sqrt(2))*np.array([[1, 1],\n",
    "              [1, -1]])\n",
    "\n",
    "X = np.array([[0,1],[1,0]])\n",
    "SW = np.array([[1, 0, 0, 0],\n",
    "              [0,0,1,0],\n",
    "              [0,1,0,0],\n",
    "              [0,0,0,1]])\n",
    "\n",
    "# Utility functions\n",
    "def controlled_u(U_gate: np.array, control:bool ):\n",
    "    \"\"\" \n",
    "    Generates the right U gate depending the number of qubits used in the problem.\n",
    "    The ones don't go necessarily on top left, depends on who controls and who's controlled. \n",
    "    If control is off, upper qubit is the control one. Control up reverses the configuration.\n",
    "    \"\"\"\n",
    "    \n",
    "    dim = 2**2\n",
    "    base = np.diag(*np.ones([1,4],dtype=complex))\n",
    "    if control:\n",
    "        base[0:2,:][:,0:2] = U_gate\n",
    "    else:\n",
    "        base[(dim-2):(dim),:][:,(dim-2):(dim)]  = U_gate\n",
    "    return base\n",
    "\n",
    "def unit(dim:int, pos: int):\n",
    "    \"\"\" \n",
    "    Generates a unit vector with the one in the position pos\n",
    "    \"\"\"\n",
    "    vec = np.zeros([dim,1])\n",
    "    vec[pos] = 1\n",
    "    return vec\n",
    "\n",
    "def reorder_gate(G, perm):\n",
    "    \"\"\"\n",
    "    Adapt gate 'G' to an ordering of the qubits as specified in 'perm'.\n",
    "    Example, given G = np.kron(np.kron(A, B), C):\n",
    "    reorder_gate(G, [1, 2, 0]) == np.kron(np.kron(B, C), A)\n",
    "    \"\"\"\n",
    "    perm = list(perm)\n",
    "    # number of qubits\n",
    "    n = len(perm)\n",
    "    # reorder both input and output dimensions\n",
    "    perm2 = perm + [n + i for i in perm]\n",
    "    return np.reshape(np.transpose(np.reshape(G, 2*n*[2]), perm2), (2**n, 2**n))"
   ]
  },
  {
   "cell_type": "markdown",
   "metadata": {},
   "source": [
    "<img src=\"img/worksheet8.jpeg\" width=\"600\">\n",
    "\n"
   ]
  },
  {
   "cell_type": "code",
   "execution_count": 124,
   "metadata": {},
   "outputs": [],
   "source": [
    "# We distinguish 7 moments (Concurrent sections of logic gates)\n",
    "# We go from right to left\n",
    "moments = []\n",
    "\n",
    "# 7th slice\n",
    "moments.append(reorder_gate(np.kron(SW, np.eye(2)), [0 ,2 ,1 ]))\n",
    "\n",
    "# 6th slice\n",
    "moments.append(np.kron(np.kron(np.eye(2), np.eye(2)), H))\n",
    "\n",
    "# 5th slice\n",
    "moments.append(np.kron(np.eye(2), controlled_u(S, 1)))\n",
    "\n",
    "# 4th slice \n",
    "moments.append(np.kron(np.kron(np.eye(2), H),np.eye(2)))\n",
    "\n",
    "# 3rd slice \n",
    "moments.append(reorder_gate(np.kron(controlled_u(T, 1), np.eye(2)), [0, 2, 1]))\n",
    "\n",
    "# 2nd slice\n",
    "moments.append(np.kron(controlled_u(S, 1), np.eye(2)))\n",
    "\n",
    "# 1st slice\n",
    "moments.append(np.kron(np.kron(H, np.eye(2)), np.eye(2)))\n"
   ]
  },
  {
   "cell_type": "code",
   "execution_count": 131,
   "metadata": {},
   "outputs": [
    {
     "data": {
      "text/plain": [
       "array([[ 0.35355339+0.j        ,  0.35355339+0.j        ,\n",
       "         0.35355339+0.j        ,  0.35355339+0.j        ,\n",
       "         0.35355339+0.j        ,  0.35355339+0.j        ,\n",
       "         0.35355339+0.j        ,  0.35355339+0.j        ],\n",
       "       [-0.25      +0.25j      ,  0.        +0.35355339j,\n",
       "         0.25      +0.25j      ,  0.35355339+0.j        ,\n",
       "         0.25      -0.25j      ,  0.        -0.35355339j,\n",
       "        -0.25      -0.25j      , -0.35355339+0.j        ],\n",
       "       [ 0.        +0.35355339j,  0.35355339+0.j        ,\n",
       "         0.        -0.35355339j, -0.35355339+0.j        ,\n",
       "         0.        +0.35355339j,  0.35355339+0.j        ,\n",
       "         0.        -0.35355339j, -0.35355339+0.j        ],\n",
       "       [-0.25      -0.25j      ,  0.        +0.35355339j,\n",
       "         0.25      -0.25j      , -0.35355339+0.j        ,\n",
       "         0.25      +0.25j      ,  0.        -0.35355339j,\n",
       "        -0.25      +0.25j      ,  0.35355339+0.j        ],\n",
       "       [ 0.35355339+0.j        , -0.35355339+0.j        ,\n",
       "         0.35355339+0.j        , -0.35355339+0.j        ,\n",
       "         0.35355339+0.j        , -0.35355339+0.j        ,\n",
       "         0.35355339+0.j        , -0.35355339+0.j        ],\n",
       "       [-0.25      +0.25j      ,  0.        -0.35355339j,\n",
       "         0.25      +0.25j      , -0.35355339+0.j        ,\n",
       "         0.25      -0.25j      ,  0.        +0.35355339j,\n",
       "        -0.25      -0.25j      ,  0.35355339+0.j        ],\n",
       "       [ 0.        +0.35355339j, -0.35355339+0.j        ,\n",
       "         0.        -0.35355339j,  0.35355339+0.j        ,\n",
       "         0.        +0.35355339j, -0.35355339+0.j        ,\n",
       "         0.        -0.35355339j,  0.35355339+0.j        ],\n",
       "       [-0.25      -0.25j      ,  0.        -0.35355339j,\n",
       "         0.25      -0.25j      ,  0.35355339+0.j        ,\n",
       "         0.25      +0.25j      ,  0.        +0.35355339j,\n",
       "        -0.25      +0.25j      , -0.35355339+0.j        ]])"
      ]
     },
     "execution_count": 131,
     "metadata": {},
     "output_type": "execute_result"
    }
   ],
   "source": [
    "# To obtain the circuit matrix, we multiply all moments\n",
    "circuit = moments[6]\n",
    "for moment in reversed(moments[:6]):\n",
    "    circuit = circuit @ moment\n",
    "acircuit"
   ]
  },
  {
   "cell_type": "code",
   "execution_count": 141,
   "metadata": {},
   "outputs": [],
   "source": [
    "sample = np.array([[np.exp(2*np.pi*1j*j*k/8)/np.sqrt(8) for j in range(8)] for k in range(8)])\n"
   ]
  },
  {
   "cell_type": "code",
   "execution_count": 152,
   "metadata": {},
   "outputs": [
    {
     "ename": "AssertionError",
     "evalue": "\nArrays are not almost equal to 4 decimals\n\nMismatch: 75%\nMax absolute difference: 0.65328148\nMax relative difference: 1.84775907\n x: array([[ 0.3536+0.j    ,  0.3536+0.j    ,  0.3536+0.j    ,\n         0.3536+0.j    ,  0.3536+0.j    ,  0.3536+0.j    ,\n         0.3536+0.j    ,  0.3536+0.j    ],...\n y: array([[ 3.5355e-01+0.0000e+00j,  3.5355e-01+0.0000e+00j,\n         3.5355e-01+0.0000e+00j,  3.5355e-01+0.0000e+00j,\n         3.5355e-01+0.0000e+00j,  3.5355e-01+0.0000e+00j,...",
     "output_type": "error",
     "traceback": [
      "\u001b[0;31m---------------------------------------------------------------------------\u001b[0m",
      "\u001b[0;31mAssertionError\u001b[0m                            Traceback (most recent call last)",
      "\u001b[0;32m<ipython-input-152-23dd6f2a02b5>\u001b[0m in \u001b[0;36m<module>\u001b[0;34m\u001b[0m\n\u001b[1;32m      1\u001b[0m np.testing.assert_array_almost_equal(circuit, sample, 4,\n\u001b[0;32m----> 2\u001b[0;31m                                      verbose=True)\n\u001b[0m",
      "\u001b[0;32m/usr/local/lib/python3.7/site-packages/numpy/testing/_private/utils.py\u001b[0m in \u001b[0;36massert_array_almost_equal\u001b[0;34m(x, y, decimal, err_msg, verbose)\u001b[0m\n\u001b[1;32m   1027\u001b[0m     assert_array_compare(compare, x, y, err_msg=err_msg, verbose=verbose,\n\u001b[1;32m   1028\u001b[0m              \u001b[0mheader\u001b[0m\u001b[0;34m=\u001b[0m\u001b[0;34m(\u001b[0m\u001b[0;34m'Arrays are not almost equal to %d decimals'\u001b[0m \u001b[0;34m%\u001b[0m \u001b[0mdecimal\u001b[0m\u001b[0;34m)\u001b[0m\u001b[0;34m,\u001b[0m\u001b[0;34m\u001b[0m\u001b[0;34m\u001b[0m\u001b[0m\n\u001b[0;32m-> 1029\u001b[0;31m              precision=decimal)\n\u001b[0m\u001b[1;32m   1030\u001b[0m \u001b[0;34m\u001b[0m\u001b[0m\n\u001b[1;32m   1031\u001b[0m \u001b[0;34m\u001b[0m\u001b[0m\n",
      "\u001b[0;32m/usr/local/lib/python3.7/site-packages/numpy/testing/_private/utils.py\u001b[0m in \u001b[0;36massert_array_compare\u001b[0;34m(comparison, x, y, err_msg, verbose, header, precision, equal_nan, equal_inf)\u001b[0m\n\u001b[1;32m    839\u001b[0m                                 \u001b[0mverbose\u001b[0m\u001b[0;34m=\u001b[0m\u001b[0mverbose\u001b[0m\u001b[0;34m,\u001b[0m \u001b[0mheader\u001b[0m\u001b[0;34m=\u001b[0m\u001b[0mheader\u001b[0m\u001b[0;34m,\u001b[0m\u001b[0;34m\u001b[0m\u001b[0;34m\u001b[0m\u001b[0m\n\u001b[1;32m    840\u001b[0m                                 names=('x', 'y'), precision=precision)\n\u001b[0;32m--> 841\u001b[0;31m             \u001b[0;32mraise\u001b[0m \u001b[0mAssertionError\u001b[0m\u001b[0;34m(\u001b[0m\u001b[0mmsg\u001b[0m\u001b[0;34m)\u001b[0m\u001b[0;34m\u001b[0m\u001b[0;34m\u001b[0m\u001b[0m\n\u001b[0m\u001b[1;32m    842\u001b[0m     \u001b[0;32mexcept\u001b[0m \u001b[0mValueError\u001b[0m\u001b[0;34m:\u001b[0m\u001b[0;34m\u001b[0m\u001b[0;34m\u001b[0m\u001b[0m\n\u001b[1;32m    843\u001b[0m         \u001b[0;32mimport\u001b[0m \u001b[0mtraceback\u001b[0m\u001b[0;34m\u001b[0m\u001b[0;34m\u001b[0m\u001b[0m\n",
      "\u001b[0;31mAssertionError\u001b[0m: \nArrays are not almost equal to 4 decimals\n\nMismatch: 75%\nMax absolute difference: 0.65328148\nMax relative difference: 1.84775907\n x: array([[ 0.3536+0.j    ,  0.3536+0.j    ,  0.3536+0.j    ,\n         0.3536+0.j    ,  0.3536+0.j    ,  0.3536+0.j    ,\n         0.3536+0.j    ,  0.3536+0.j    ],...\n y: array([[ 3.5355e-01+0.0000e+00j,  3.5355e-01+0.0000e+00j,\n         3.5355e-01+0.0000e+00j,  3.5355e-01+0.0000e+00j,\n         3.5355e-01+0.0000e+00j,  3.5355e-01+0.0000e+00j,..."
     ]
    }
   ],
   "source": [
    "np.testing.assert_array_almost_equal(circuit, sample, 4, verbose=True)"
   ]
  },
  {
   "cell_type": "code",
   "execution_count": 156,
   "metadata": {},
   "outputs": [
    {
     "ename": "AssertionError",
     "evalue": "\nNot equal to tolerance rtol=0.1, atol=0\n\nMismatch: 75%\nMax absolute difference: 0.65328148\nMax relative difference: 1.84775907\n x: array([[ 0.353553+0.j      ,  0.353553+0.j      ,  0.353553+0.j      ,\n         0.353553+0.j      ,  0.353553+0.j      ,  0.353553+0.j      ,\n         0.353553+0.j      ,  0.353553+0.j      ],...\n y: array([[ 3.535534e-01+0.000000e+00j,  3.535534e-01+0.000000e+00j,\n         3.535534e-01+0.000000e+00j,  3.535534e-01+0.000000e+00j,\n         3.535534e-01+0.000000e+00j,  3.535534e-01+0.000000e+00j,...",
     "output_type": "error",
     "traceback": [
      "\u001b[0;31m---------------------------------------------------------------------------\u001b[0m",
      "\u001b[0;31mAssertionError\u001b[0m                            Traceback (most recent call last)",
      "\u001b[0;32m<ipython-input-156-b1902cccb98b>\u001b[0m in \u001b[0;36m<module>\u001b[0;34m\u001b[0m\n\u001b[0;32m----> 1\u001b[0;31m \u001b[0mnp\u001b[0m\u001b[0;34m.\u001b[0m\u001b[0mtesting\u001b[0m\u001b[0;34m.\u001b[0m\u001b[0massert_allclose\u001b[0m\u001b[0;34m(\u001b[0m\u001b[0mcircuit\u001b[0m\u001b[0;34m,\u001b[0m\u001b[0msample\u001b[0m\u001b[0;34m,\u001b[0m \u001b[0mrtol\u001b[0m\u001b[0;34m=\u001b[0m\u001b[0;36m1e-01\u001b[0m\u001b[0;34m,\u001b[0m \u001b[0matol\u001b[0m\u001b[0;34m=\u001b[0m\u001b[0;36m0\u001b[0m\u001b[0;34m,\u001b[0m \u001b[0mequal_nan\u001b[0m\u001b[0;34m=\u001b[0m\u001b[0;32mTrue\u001b[0m\u001b[0;34m,\u001b[0m \u001b[0merr_msg\u001b[0m\u001b[0;34m=\u001b[0m\u001b[0;34m''\u001b[0m\u001b[0;34m,\u001b[0m \u001b[0mverbose\u001b[0m\u001b[0;34m=\u001b[0m\u001b[0;32mTrue\u001b[0m\u001b[0;34m)\u001b[0m\u001b[0;34m\u001b[0m\u001b[0;34m\u001b[0m\u001b[0m\n\u001b[0m",
      "\u001b[0;32m/usr/local/lib/python3.7/site-packages/numpy/testing/_private/utils.py\u001b[0m in \u001b[0;36massert_allclose\u001b[0;34m(actual, desired, rtol, atol, equal_nan, err_msg, verbose)\u001b[0m\n\u001b[1;32m   1513\u001b[0m     \u001b[0mheader\u001b[0m \u001b[0;34m=\u001b[0m \u001b[0;34m'Not equal to tolerance rtol=%g, atol=%g'\u001b[0m \u001b[0;34m%\u001b[0m \u001b[0;34m(\u001b[0m\u001b[0mrtol\u001b[0m\u001b[0;34m,\u001b[0m \u001b[0matol\u001b[0m\u001b[0;34m)\u001b[0m\u001b[0;34m\u001b[0m\u001b[0;34m\u001b[0m\u001b[0m\n\u001b[1;32m   1514\u001b[0m     assert_array_compare(compare, actual, desired, err_msg=str(err_msg),\n\u001b[0;32m-> 1515\u001b[0;31m                          verbose=verbose, header=header, equal_nan=equal_nan)\n\u001b[0m\u001b[1;32m   1516\u001b[0m \u001b[0;34m\u001b[0m\u001b[0m\n\u001b[1;32m   1517\u001b[0m \u001b[0;34m\u001b[0m\u001b[0m\n",
      "\u001b[0;32m/usr/local/lib/python3.7/site-packages/numpy/testing/_private/utils.py\u001b[0m in \u001b[0;36massert_array_compare\u001b[0;34m(comparison, x, y, err_msg, verbose, header, precision, equal_nan, equal_inf)\u001b[0m\n\u001b[1;32m    839\u001b[0m                                 \u001b[0mverbose\u001b[0m\u001b[0;34m=\u001b[0m\u001b[0mverbose\u001b[0m\u001b[0;34m,\u001b[0m \u001b[0mheader\u001b[0m\u001b[0;34m=\u001b[0m\u001b[0mheader\u001b[0m\u001b[0;34m,\u001b[0m\u001b[0;34m\u001b[0m\u001b[0;34m\u001b[0m\u001b[0m\n\u001b[1;32m    840\u001b[0m                                 names=('x', 'y'), precision=precision)\n\u001b[0;32m--> 841\u001b[0;31m             \u001b[0;32mraise\u001b[0m \u001b[0mAssertionError\u001b[0m\u001b[0;34m(\u001b[0m\u001b[0mmsg\u001b[0m\u001b[0;34m)\u001b[0m\u001b[0;34m\u001b[0m\u001b[0;34m\u001b[0m\u001b[0m\n\u001b[0m\u001b[1;32m    842\u001b[0m     \u001b[0;32mexcept\u001b[0m \u001b[0mValueError\u001b[0m\u001b[0;34m:\u001b[0m\u001b[0;34m\u001b[0m\u001b[0;34m\u001b[0m\u001b[0m\n\u001b[1;32m    843\u001b[0m         \u001b[0;32mimport\u001b[0m \u001b[0mtraceback\u001b[0m\u001b[0;34m\u001b[0m\u001b[0;34m\u001b[0m\u001b[0m\n",
      "\u001b[0;31mAssertionError\u001b[0m: \nNot equal to tolerance rtol=0.1, atol=0\n\nMismatch: 75%\nMax absolute difference: 0.65328148\nMax relative difference: 1.84775907\n x: array([[ 0.353553+0.j      ,  0.353553+0.j      ,  0.353553+0.j      ,\n         0.353553+0.j      ,  0.353553+0.j      ,  0.353553+0.j      ,\n         0.353553+0.j      ,  0.353553+0.j      ],...\n y: array([[ 3.535534e-01+0.000000e+00j,  3.535534e-01+0.000000e+00j,\n         3.535534e-01+0.000000e+00j,  3.535534e-01+0.000000e+00j,\n         3.535534e-01+0.000000e+00j,  3.535534e-01+0.000000e+00j,..."
     ]
    }
   ],
   "source": []
  },
  {
   "cell_type": "code",
   "execution_count": null,
   "metadata": {},
   "outputs": [],
   "source": []
  }
 ],
 "metadata": {
  "kernelspec": {
   "display_name": "Python 3",
   "language": "python",
   "name": "python3"
  },
  "language_info": {
   "codemirror_mode": {
    "name": "ipython",
    "version": 3
   },
   "file_extension": ".py",
   "mimetype": "text/x-python",
   "name": "python",
   "nbconvert_exporter": "python",
   "pygments_lexer": "ipython3",
   "version": "3.7.5"
  }
 },
 "nbformat": 4,
 "nbformat_minor": 2
}
